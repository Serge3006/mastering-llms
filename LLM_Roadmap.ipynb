{
  "cells": [
    {
      "cell_type": "markdown",
      "id": "def5ffc0-d74d-4eb8-9f4c-2f7ca28b3e73",
      "metadata": {
        "noteable": {
          "cell_type": "markdown"
        }
      },
      "source": [
        "![Mastering Large Language Models](https://images.unsplash.com/photo-1676299081847-824916de030a?ixlib=rb-4.0.3&ixid=M3wxMjA3fDB8MHxwaG90by1wYWdlfHx8fGVufDB8fHx8fA%3D%3D&auto=format&fit=crop&w=1500&q=80)\n",
        "\n",
        "# Mastering Large Language Models (LLMs)\n",
        "\n",
        "This notebook provides a detailed roadmap for mastering Large Language Models (LLMs)\n",
        "\n",
        "The roadmap is divided into several sections, each focusing on a specific aspect of LLMs. Each section includes a list of resources for learning the topic, including books, online courses, and tutorials.\n",
        "\n",
        "Let's get into this exciting journey to master LLMs!"
      ]
    },
    {
      "cell_type": "markdown",
      "id": "1771f819-6e69-43f5-9bbf-248888ae41aa",
      "metadata": {
        "noteable": {
          "cell_type": "markdown"
        }
      },
      "source": [
        "## Table of Contents\n",
        "\n",
        "1. [NLP Basics](#NLP-Basics)\n",
        "2. [Deep Learning for NLP](#Deep-Learning-for-NLP)\n",
        "3. [Transformers & Self-Attention for NLP](#Transformers-&-Self-Attention-for-NLP)\n",
        "4. [Building LLM Projects & Applications](#Building-LLM-Projects-&-Applications)"
      ]
    },
    {
      "cell_type": "markdown",
      "id": "a82352db-fa76-4e83-9e08-cbb4500205fa",
      "metadata": {
        "noteable": {
          "cell_type": "markdown"
        }
      },
      "source": [
        "## NLP Basics\n",
        "\n",
        "Before diving into LLMs, it's crucial to have a solid understanding of Natural Language Processing (NLP). Here are some resources to get you started:\n",
        "\n",
        "1. [Natural Language Processing with Python](https://www.amazon.com/Natural-Language-Processing-Python-Analyzing/dp/0596516495): This book offers a highly accessible introduction to natural language processing, the field that supports a variety of language technologies, from predictive text and email filtering to automatic summarization and translation. - [Github](https://github.com/Sturzgefahr/Natural-Language-Processing-with-Python-Analyzing-Text-with-the-Natural-Language-Toolkit)\n",
        "\n",
        "2. [Practical Natural Language Processing](https://www.amazon.com/Practical-Natural-Language-Processing-Pragmatic/dp/1492054054): A practical guide to processing and understanding text data with NLP. - [Github](https://github.com/practical-nlp/practical-nlp-code)\n",
        "\n",
        "3. [Analytics Vidhya NLP tutorial](https://www.analyticsvidhya.com/blog/2017/01/ultimate-guide-to-understand-implement-natural-language-processing-codes-in-python/): A comprehensive tutorial on NLP basics.\n",
        "\n",
        "4. [Github NLP tutorial](https://github.com/keon/awesome-nlp): A collection of NLP resources.\n",
        "\n",
        "5. [Speech and Language Processing](https://web.stanford.edu/~jurafsky/slp3/): This is an introductory textbook on NLP and computational linguistics, written by leading researchers in the field."
      ]
    },
    {
      "cell_type": "markdown",
      "id": "f4ad023a-b7b4-4927-8795-9f03979e45a9",
      "metadata": {
        "noteable": {
          "cell_type": "markdown"
        }
      },
      "source": [
        "## Deep Learning for NLP\n",
        "\n",
        "Once you have a good grasp of NLP basics, the next step is to learn about deep learning for NLP. Here are some resources to help you:\n",
        "\n",
        "1. [Deep Learning Specialization](https://www.coursera.org/specializations/deep-learning): This specialization by Andrew Ng on Coursera will help you understand the capabilities, challenges, and consequences of deep learning and prepare you to participate in the development of leading-edge AI technology.\n",
        "\n",
        "2. [Deep Learning for NLP by Stanford University](http://web.stanford.edu/class/cs224n/): This course provides a thorough introduction to cutting-edge research in Deep Learning for NLP. Through lectures, assignments, and a final project, students will learn the necessary skills to design, implement, and understand their own neural network models.\n",
        "   \n",
        "3. [Applied Natural Language Processing by UC Berkeley](https://people.ischool.berkeley.edu/~dbamman/info256.html): This course examines the use of natural language processing as a set of methods for exploring and reasoning about text as data, focusing especially on the applied side of NLP — using existing NLP methods and libraries in Python in new and creative ways (rather than exploring the core algorithms underlying them)\n",
        "\n",
        "4. [Natural Language Processing Specialization](https://www.coursera.org/specializations/natural-language-processing): This specialization by deeplearning.ai on Coursera will equip you with the machine learning basics and state-of-the-art deep learning techniques needed to build cutting-edge NLP systems.\n",
        "\n",
        "5. [Deep Learning Book](http://www.deeplearningbook.org/): This book by Ian Goodfellow, Yoshua Bengio, and Aaron Courville provides a comprehensive introduction to the field of deep learning.\n",
        "\n",
        "6. [Deep Learning for Coders with fastai and PyTorch](https://www.amazon.com/Deep-Learning-Coders-fastai-PyTorch/dp/1492045527): This book provides a practical introduction to deep learning and artificial intelligence. It emphasizes the use of the fastai library, which simplifies the process of building complex models. - [Free Book](https://fastai.github.io/fastbook2e/)\n",
        "\n",
        "7. [Deep Learning for NLP (PyTorch tutorials)](https://pytorch.org/tutorials/beginner/deep_learning_nlp_tutorial.html): These tutorials provide a good starting point for understanding how to use PyTorch for NLP tasks."
      ]
    },
    {
      "cell_type": "markdown",
      "id": "854085a3-facd-4cc4-bbee-80325d33bc2e",
      "metadata": {
        "noteable": {
          "cell_type": "markdown"
        }
      },
      "source": [
        "## Transformers & Self-Attention for NLP\n",
        "\n",
        "The transformer model, which uses self-attention mechanisms, is the backbone of most LLMs. Here are some resources to understand transformers and self-attention mechanisms:\n",
        "\n",
        "1. [The Illustrated Transformer](http://jalammar.github.io/illustrated-transformer/): This blog post by Jay Alammar provides a visual and intuitive understanding of how transformers work.\n",
        "\n",
        "2. [The Annotated Transformer](http://nlp.seas.harvard.edu/2018/04/03/attention.html): This blog post annotates the paper that introduced transformers, 'Attention is All You Need', and provides a line-by-line implementation in PyTorch.\n",
        "\n",
        "3. [Transformers for Natural Language Processing](https://www.amazon.com/Transformers-Natural-Language-Processing-Understanding/dp/1800565790): This book explains the transformer architecture in depth and how it is used in real-world applications.\n",
        "\n",
        "4. [Hugging Face Transformers](https://huggingface.co/learn/nlp-course/chapter1/1): Hugging Face provides a library of pre-trained transformer models for direct use in NLP tasks. Their documentation and tutorials are a great resource for learning how to use transformers in practice.\n",
        "\n",
        "5. [Attention Is All You Need (Original Paper)](https://arxiv.org/abs/1706.03762): This is the original paper that introduced the transformer model. It's a bit dense, but it's a must-read if you want to understand the details of the model.\n",
        "\n",
        "6. [A Gentle Introduction to Transformers](https://www.youtube.com/watch?v=4Bdc55j80l8): This video by Luis Serrano provides a gentle and intuitive explanation of transformers."
      ]
    },
    {
      "cell_type": "markdown",
      "id": "f9e61585",
      "metadata": {},
      "source": [
        "## Large Language Models (LLMs) Courses\n",
        "\n",
        "1. [COS 597G (Fall 2022): Understanding Large Language Models - Princeton University](https://www.cs.princeton.edu/courses/archive/fall22/cos597G/)\n",
        "   \n",
        "2. [CS324 lecture notes (Winter 2022) - Stanford University](https://stanford-cs324.github.io/winter2022/lectures/)"
      ]
    },
    {
      "cell_type": "markdown",
      "id": "69314fde-c589-4a11-8d08-8d61a9cb4127",
      "metadata": {
        "noteable": {
          "cell_type": "markdown"
        }
      },
      "source": [
        "## Building LLM Projects & Applications\n",
        "\n",
        "After understanding the theoretical aspects, it's time to get hands-on experience. Here are some resources to help you build projects and applications using LLMs:\n",
        "\n",
        "1. [Hugging Face Model Hub](https://huggingface.co/models): The Hugging Face Model Hub is a repository of pre-trained models that you can use directly in your projects.\n",
        "\n",
        "2. [ChatGPT](https://openai.com/chatgpt): ChatGPT is a state-of-the-art LLM developed by OpenAI. You can use the ChatGPT API to integrate it into your applications.\n",
        "\n",
        "3. [GPT-3 Sandbox](https://gpt3demo.com/): This is a platform where you can experiment with different applications of GPT-3.\n",
        "\n",
        "4. [Github GPT-3 Examples](https://github.com/openai/gpt-3): This Github repository contains examples of applications built using GPT-3.\n",
        "\n",
        "5. [awesome-gpt3 Github](https://github.com/elyase/awesome-gpt3): This Github repository contains examples of creative writing applications built using GPT-3.\n",
        "\n",
        "6. [GPT-3 Sandbox by OpenAI](https://beta.openai.com/): This is a platform provided by OpenAI where you can experiment with different applications of GPT-3.\n",
        "   \n",
        "7. [Full Stack LLM Bootcamp](https://fullstackdeeplearning.com/llm-bootcamp/)\n",
        "   \n",
        "8. [LLM University! by cohere](https://docs.cohere.com/docs/llmu)\n",
        "\n",
        "9.  [DeepLearning.AI Short Courses:](https://www.deeplearning.ai/short-courses/)\n",
        "   \n",
        "    1.  [Chatgpt Prompt Engineering for Developers](./0_Chatgpt_Prompt_Engineering_for_Developers)\n",
        "\n",
        "    2.  [LangChain for LLM Application Development](./1_LangChain_for_LLM_Application_Development)\n",
        "\n",
        "    3.  [How Diffusion Models Work](./2_How_Diffusion_Models_Work)\n",
        "\n",
        "    4.  [Building Systems with ChatGPT API](./3_Building_Systems_with_ChatGPT_API)"
      ]
    },
    {
      "cell_type": "markdown",
      "id": "ccd34145",
      "metadata": {},
      "source": [
        "# Extra (Blogs):\n",
        "1. [Lil’Log](https://lilianweng.github.io/)\n",
        "   \n",
        "2. [Jay Alammar](https://jalammar.github.io/)"
      ]
    }
  ],
  "metadata": {
    "language_info": {
      "name": "python"
    },
    "noteable": {
      "last_delta_id": "a8cbf156-5dfa-44e0-8a69-5aa2f80dd8c3",
      "last_transaction_id": "a8cbf156-5dfa-44e0-8a69-5aa2f80dd8c3"
    },
    "noteable-chatgpt": {
      "create_notebook": {
        "openai_conversation_id": "dd8bbc43-abc0-5763-ad98-003081116bed",
        "openai_ephemeral_user_id": "6271db72-1241-505f-b2f6-5da2ff572d52",
        "openai_subdivision1_iso_code": "ES-MD"
      }
    },
    "nteract": {
      "version": "noteable@2.9.0"
    },
    "selected_hardware_size": "small"
  },
  "nbformat": 4,
  "nbformat_minor": 5
}
